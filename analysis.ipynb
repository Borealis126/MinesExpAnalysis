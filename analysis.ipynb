{
 "cells": [
  {
   "cell_type": "code",
   "execution_count": 1,
   "metadata": {
    "pycharm": {
     "name": "#%%\n"
    }
   },
   "outputs": [],
   "source": [
    "from src import qdpm\n",
    "from qutip import identity, Qobj, basis\n",
    "from qutip.qip.operations import rx, ry\n",
    "import numpy as np\n",
    "import matplotlib.pyplot as plt\n",
    "from pathlib import Path\n",
    "import src.NQubitSystem_qutip as NQS_QT\n",
    "import src.AdvancedWaveforms_JH as wfm_adv\n",
    "\n",
    "from src.pulseGenFuncs import Paths\n",
    "%matplotlib inline\n",
    "from src.optimHelperFunctions import NielsenFidelity, gate\n",
    "import torch\n",
    "from copy import deepcopy"
   ]
  },
  {
   "cell_type": "code",
   "execution_count": 2,
   "outputs": [],
   "source": [
    "def gateData(basePath, date):\n",
    "    qSys = NQS_QT.NQubitSystem_QT(basePath / 'G0' / 'results' / 'gate' / date)\n",
    "    qSys.numLevels = 2\n",
    "    gates = wfm_adv.loadGates(qSys, basePath / 'gates.json')\n",
    "    U_vals = [NQS_QT.unitaryFromOpList(qSys.gateExpSliceToUnitaryOpList(gates[g_i])) for g_i in gateIndices]\n",
    "    G_T = [sum([pulse.duration for pulse in gates[g_i].opList[0].pulseList]) for g_i in gateIndices]\n",
    "    G_T_theory = np.array(G_T)/(np.pi/(qSys.twoQubitValues[0][1]['ZZ']*2*np.pi))\n",
    "    return {'U_vals':U_vals,\n",
    "            'G_T':G_T,\n",
    "            'G_T_theory': G_T_theory}\n",
    "def getTomos(basePath, date, gateIndices, gateDataVals):\n",
    "    preparation = [identity(2),\n",
    "                   rx(np.pi),\n",
    "                   ry(np.pi/2),\n",
    "                   ry(-np.pi/2),\n",
    "                   rx(-np.pi/2),\n",
    "                   rx(np.pi/2)]\n",
    "    rotation = [identity(2),\n",
    "                rx(-np.pi/2),\n",
    "                ry(np.pi/2)]\n",
    "    init_state = [basis(2,0), basis(2, 0)]\n",
    "\n",
    "    studyPath_I = Path('.') / 'ExpData' / 'ProcessTomographyTest' / 'id'\n",
    "    paths_I = Paths(studyPath_I)\n",
    "\n",
    "    R_I = qdpm.ProcessTomography(qdpm.Experiment(paths_I.resultsPath(date)), init_state, preparation, rotation)._R_mle\n",
    "\n",
    "    tomos= list()\n",
    "\n",
    "    for g_i in gateIndices:\n",
    "        studyPath = Paths(basePath / ('G'+str(g_i)))\n",
    "        tomo = qdpm.ProcessTomography(qdpm.Experiment(studyPath.resultsPath(date)), init_state, preparation, rotation)\n",
    "        U = gateDataVals['U_vals'][g_i]\n",
    "        R_U = tomo._R_mle\n",
    "        R_spamFree = qdpm.R_SPAMfree(U, R_U, R_I)\n",
    "        tomo._R_mle = R_spamFree.astype('float64')\n",
    "        tomos.append(tomo)\n",
    "    return tomos\n",
    "def IFs(gateName, basePath, date, gateIndices, U_vals, tomos):\n",
    "    qSys = NQS_QT.NQubitSystem_QT(basePath / 'G0' / 'results' / 'gate' / date)\n",
    "    qSys.numLevels = 2\n",
    "\n",
    "    TheoryGate = gate(qSys, gateName).numpy()\n",
    "\n",
    "    G_IF_Exp_Theory = list()\n",
    "    G_IF_Theory_TheoryGate = list()\n",
    "    G_IF_Exp_TheoryGate = list()\n",
    "    for g_i in gateIndices:\n",
    "        tomo=tomos[g_i]\n",
    "\n",
    "        G_IF_Exp_Theory.append(1-tomo.fidelity(Qobj(U_vals[g_i], dims=[[2,2],[2,2]])))\n",
    "        G_IF_Theory_TheoryGate.append(1-NielsenFidelity(qSys.N, torch.tensor(U_vals[g_i], dtype=torch.cdouble), torch.tensor(TheoryGate, dtype=torch.cdouble)).item())\n",
    "        G_IF_Exp_TheoryGate.append(1-tomo.fidelity(Qobj(TheoryGate, dims=[[2,2],[2,2]])))\n",
    "    return {'G_IF_Exp_Theory':G_IF_Exp_Theory,\n",
    "            'G_IF_Theory_TheoryGate':G_IF_Theory_TheoryGate,\n",
    "            'G_IF_Exp_TheoryGate':G_IF_Exp_TheoryGate}\n",
    "\n",
    "        # if g_i == 15:\n",
    "        #     tomo.plot()\n",
    "        #     plt.savefig('CNOT75hist_exp.png', dpi=500)\n",
    "\n",
    "    #         tomo.plot_theory(Qobj(TheoryGate, dims=[[2,2],[2,2]]))\n",
    "    #         plt.savefig('CNOT75hist_theory.png', dpi=500)\n",
    "def fidelityCurve(gateName, rabiStrengthMHz, gateDataVals, IFdict):\n",
    "    plt.plot(gateDataVals['G_T_theory'], IFdict['G_IF_Exp_Theory'], 'bo-', label='IF Exp/Theory')\n",
    "    plt.plot(gateDataVals['G_T_theory'], IFdict['G_IF_Theory_TheoryGate'], 'go-', label='IF Theory/'+gateName)\n",
    "    plt.plot(gateDataVals['G_T_theory'], IFdict['G_IF_Exp_TheoryGate'], 'ro-', label='IF Exp/'+gateName)\n",
    "\n",
    "    plt.legend()\n",
    "    plt.title(gateName+' Q0-XY Q1-XY square 4segs $\\Omega=$'+str(rabiStrengthMHz)+'MHz')\n",
    "    plt.xlabel('Gate T (units of pi/gz)')\n",
    "    plt.ylabel('Infidelity')\n",
    "    plt.show()\n",
    "def fidelityCurve_noise(gateName, rabiStrengthMHz, gateDataVals, IFdict, noiseDictIFs):\n",
    "    plt.errorbar(x=gateDataVals['G_T_theory'],\n",
    "                 y=noiseDictIFs['G_IF_Exp_Theory_Mean'],\n",
    "                 yerr=noiseDictIFs['G_IF_Exp_Theory_STD'],\n",
    "                 fmt='b-', label='IF Exp/Theory')\n",
    "    plt.errorbar(x=gateDataVals['G_T_theory'],\n",
    "                 y=noiseDictIFs['G_IF_Exp_TheoryGate_Mean'],\n",
    "                 yerr=noiseDictIFs['G_IF_Exp_TheoryGate_STD'],\n",
    "                 fmt='r-', label='IF Exp/'+str(gateName))\n",
    "    plt.plot(gateDataVals['G_T_theory'], IFdict['G_IF_Theory_TheoryGate'], 'go-', label='IF Theory/CNOT')\n",
    "\n",
    "    plt.legend()\n",
    "    plt.title(gateName+' Q0-XY Q1-XY square 4segs $\\Omega=$'+str(rabiStrengthMHz)+'MHz')\n",
    "    plt.xlabel('Gate T (units of pi/gz)')\n",
    "    plt.ylabel('Infidelity')\n",
    "    plt.show()\n",
    "def saveIFs(gateName, rabiStrengthMHz, gateDataVals, IFdict):\n",
    "    numGates = len(gateDataVals['G_T_theory'])\n",
    "    np.savetxt(gateName+'_'+str(rabiStrengthMHz)+'MHz_expData_theory.csv',\n",
    "               np.array([[gateDataVals['G_T_theory'][i], IFdict['G_IF_Theory_TheoryGate'][i]] for i in range(numGates)]), delimiter=\",\")\n",
    "    np.savetxt(gateName+'_'+str(rabiStrengthMHz)+'MHz_expData_exp.csv',\n",
    "               np.array([[gateDataVals['G_T_theory'][i], np.real(IFdict['G_IF_Exp_TheoryGate'][i])] for i in range(numGates)]), delimiter=\",\")\n",
    "    np.savetxt(gateName+'_'+str(rabiStrengthMHz)+'MHz_expData_expVstheory.csv',\n",
    "               np.array([[gateDataVals['G_T_theory'][i], np.real(IFdict['G_IF_Exp_Theory'][i])] for i in range(numGates)]), delimiter=\",\")\n",
    "def gaussianNoise(gateName, basePath, date, gateIndices, U_vals, tomos):\n",
    "    np.random.seed(0)\n",
    "    numNoiseTrials = 10\n",
    "    N = 500\n",
    "    G_IF_Exp_Theory_Mean = list()\n",
    "    G_IF_Exp_Theory_STD = list()\n",
    "    G_IF_Exp_TheoryGate_Mean = list()\n",
    "    G_IF_Exp_TheoryGate_STD = list()\n",
    "    for g_i in gateIndices:\n",
    "        tomoArray = list()\n",
    "        for noiseIndex in range(numNoiseTrials):\n",
    "            tomo_noise = deepcopy(tomos[g_i])\n",
    "            noiseArray = 1/np.sqrt(N)*np.array([np.random.normal(0,1) for _ in range(16 * 16)]).reshape(16, 16)\n",
    "            tomo_noise._R_mle += noiseArray\n",
    "            tomoArray.append(tomo_noise)\n",
    "        IFdict = IFs(gateName, basePath, date, range(numNoiseTrials), [U_vals[g_i]]*numNoiseTrials, tomoArray)\n",
    "\n",
    "        G_IF_Exp_Theory_Mean.append(np.mean(np.array(IFdict['G_IF_Exp_Theory'])))\n",
    "        G_IF_Exp_Theory_STD.append(np.std(np.array(IFdict['G_IF_Exp_Theory'])))\n",
    "\n",
    "        G_IF_Exp_TheoryGate_Mean.append(np.mean(np.array(IFdict['G_IF_Exp_TheoryGate'])))\n",
    "        G_IF_Exp_TheoryGate_STD.append(np.std(np.array(IFdict['G_IF_Exp_TheoryGate'])))\n",
    "    return {'G_IF_Exp_Theory_Mean': G_IF_Exp_Theory_Mean,\n",
    "            'G_IF_Exp_Theory_STD': G_IF_Exp_Theory_STD,\n",
    "            'G_IF_Exp_TheoryGate_Mean': G_IF_Exp_TheoryGate_Mean,\n",
    "            'G_IF_Exp_TheoryGate_STD': G_IF_Exp_TheoryGate_STD}"
   ],
   "metadata": {
    "collapsed": false,
    "pycharm": {
     "name": "#%%\n"
    }
   }
  },
  {
   "cell_type": "code",
   "execution_count": 3,
   "outputs": [],
   "source": [
    "gateName = 'CNOT'\n",
    "rabiStrengthMHz = 7.5\n",
    "gateIndices = range(20)"
   ],
   "metadata": {
    "collapsed": false,
    "pycharm": {
     "name": "#%%\n"
    }
   }
  },
  {
   "cell_type": "code",
   "execution_count": 4,
   "outputs": [],
   "source": [
    "if gateName == 'CNOT':\n",
    "    date = '2022-03-11_0'\n",
    "    if rabiStrengthMHz == 7.5:\n",
    "        basePath = Path('.') / 'ExpData' / gateName / (str(rabiStrengthMHz)+'MHz') / '20Points' / 'gateData_allRepeats'\n",
    "    elif rabiStrengthMHz == 12:\n",
    "        basePath = Path('.') / 'ExpData' / gateName / (str(rabiStrengthMHz)+'MHz') / '20Points'\n",
    "\n",
    "gateDataVals = gateData(basePath, date)"
   ],
   "metadata": {
    "collapsed": false,
    "pycharm": {
     "name": "#%%\n"
    }
   }
  },
  {
   "cell_type": "code",
   "execution_count": 5,
   "outputs": [
    {
     "name": "stderr",
     "output_type": "stream",
     "text": [
      "C:\\Users\\joela\\AppData\\Local\\Temp\\ipykernel_16972\\3087160807.py:36: ComplexWarning: Casting complex values to real discards the imaginary part\n",
      "  tomo._R_mle = R_spamFree.astype('float64')\n"
     ]
    }
   ],
   "source": [
    "tomos = getTomos(basePath, date, gateIndices, gateDataVals)"
   ],
   "metadata": {
    "collapsed": false,
    "pycharm": {
     "name": "#%%\n"
    }
   }
  },
  {
   "cell_type": "code",
   "execution_count": 6,
   "outputs": [
    {
     "data": {
      "text/plain": "<Figure size 432x288 with 1 Axes>",
      "image/png": "[encoded data removed]"
     },
     "metadata": {
      "needs_background": "light"
     },
     "output_type": "display_data"
    }
   ],
   "source": [
    "IFdict = IFs(gateName, basePath, date, gateIndices, gateDataVals['U_vals'], tomos)\n",
    "fidelityCurve(gateName, rabiStrengthMHz, gateDataVals, IFdict)"
   ],
   "metadata": {
    "collapsed": false,
    "pycharm": {
     "name": "#%%\n"
    }
   }
  },
  {
   "cell_type": "code",
   "execution_count": 7,
   "metadata": {
    "pycharm": {
     "name": "#%%\n"
    }
   },
   "outputs": [],
   "source": [
    "saveIFs(gateName, rabiStrengthMHz, gateDataVals, IFdict)"
   ]
  },
  {
   "cell_type": "code",
   "execution_count": 8,
   "outputs": [],
   "source": [
    "noiseDictIFs = gaussianNoise(gateName, basePath, date, gateIndices, gateDataVals['U_vals'], tomos)"
   ],
   "metadata": {
    "collapsed": false,
    "pycharm": {
     "name": "#%%\n"
    }
   }
  },
  {
   "cell_type": "code",
   "execution_count": 9,
   "outputs": [
    {
     "data": {
      "text/plain": "<Figure size 432x288 with 1 Axes>",
      "image/png": "[encoded data removed]"
     },
     "metadata": {
      "needs_background": "light"
     },
     "output_type": "display_data"
    }
   ],
   "source": [
    "fidelityCurve_noise(gateName, rabiStrengthMHz, gateDataVals, IFdict, noiseDictIFs)"
   ],
   "metadata": {
    "collapsed": false,
    "pycharm": {
     "name": "#%%\n"
    }
   }
  },
  {
   "cell_type": "markdown",
   "source": [
    "# Gaussian Noise (other)"
   ],
   "metadata": {
    "collapsed": false,
    "pycharm": {
     "name": "#%% md\n"
    }
   }
  },
  {
   "cell_type": "code",
   "execution_count": 10,
   "outputs": [],
   "source": [
    "# preparation = [identity(2),\n",
    "#                    rx(np.pi),\n",
    "#                    ry(np.pi/2),\n",
    "#                    ry(-np.pi/2),\n",
    "#                    rx(-np.pi/2),\n",
    "#                    rx(np.pi/2)]\n",
    "# rotation = [identity(2),\n",
    "#             rx(-np.pi/2),\n",
    "#             ry(np.pi/2)]\n",
    "# init_state = [basis(2,0), basis(2, 0)]"
   ],
   "metadata": {
    "collapsed": false,
    "pycharm": {
     "name": "#%%\n"
    }
   }
  },
  {
   "cell_type": "code",
   "execution_count": 11,
   "outputs": [],
   "source": [
    "# qSys = NQS_QT.NQubitSystem_QT(basePath / 'G0' / 'results' / 'gate' / date)\n",
    "# qSys.numLevels = 2\n",
    "#\n",
    "# np.random.seed(0)\n",
    "# numNoiseTrials = 10\n",
    "# N = 500\n",
    "# gateDataPath = basePath / 'gates.json'\n",
    "#\n",
    "# gates = wfm_adv.loadGates(qSys, gateDataPath)\n",
    "# numGates = len(gates)\n",
    "#\n",
    "# TheoryGate = gate(qSys, 'CNOT').numpy()\n",
    "#\n",
    "# studyPath_I = Path('.') / 'ExpData' / 'ProcessTomographyTest' / 'id'\n",
    "# paths_I = Paths(studyPath_I)\n",
    "#\n",
    "# R_I = qdpm.ProcessTomography(qdpm.Experiment(paths_I.resultsPath('2022-03-11_0')), init_state, preparation, rotation)._R_mle\n",
    "#\n",
    "# G_IF_Exp_Theory = list()\n",
    "# G_IF_Theory_TheoryGate = list()\n",
    "# G_IF_Exp_TheoryGate = list()\n",
    "#\n",
    "# G_IF_Exp_Theory_STD = list()\n",
    "# G_IF_Exp_TheoryGate_STD = list()\n",
    "#\n",
    "# G_T = list()\n",
    "# for g_i in range(numGates):\n",
    "#     studyPaths = Paths(basePath / ('G'+str(g_i)))\n",
    "#\n",
    "#     gateExpSlice = gates[g_i]\n",
    "#     G_T.append(sum([pulse.duration for pulse in gateExpSlice.opList[0].pulseList]))\n",
    "#\n",
    "#     U = NQS_QT.unitaryFromOpList(qSys.gateExpSliceToUnitaryOpList(gateExpSlice))\n",
    "#     U_qt = Qobj(U, dims=[[2,2],[2,2]])\n",
    "#     G_IF_Theory_TheoryGate.append(1-NielsenFidelity(qSys.N, torch.tensor(U, dtype=torch.cdouble), torch.tensor(TheoryGate, dtype=torch.cdouble)).item())\n",
    "#\n",
    "#     tomo = qdpm.ProcessTomography(qdpm.Experiment(studyPaths.resultsPath('2022-03-11_0')), init_state, preparation, rotation)\n",
    "#     tomo_original = deepcopy(tomo)\n",
    "#\n",
    "#     G_IF_Exp_Theory_Noise = list()\n",
    "#     G_IF_Exp_TheoryGate_Noise = list()\n",
    "#     for noiseIndex in range(numNoiseTrials):\n",
    "#         R_U = tomo_original._R_mle\n",
    "#         R_spamFree = qdpm.R_SPAMfree(U, R_U, R_I)\n",
    "#         tomo._R_mle = R_spamFree.astype('float64')\n",
    "#         noiseArray = 1/np.sqrt(N)*np.array([np.random.normal(0,1) for i in range(16*16)]).reshape(16,16)\n",
    "#         tomo._R_mle += noiseArray\n",
    "#\n",
    "#         G_IF_Exp_Theory_Noise.append(1-tomo.fidelity(U_qt))\n",
    "#         G_IF_Exp_TheoryGate_Noise.append(1-tomo.fidelity(Qobj(TheoryGate, dims=[[2,2],[2,2]])))\n",
    "#\n",
    "#     G_IF_Exp_Theory_STD.append(np.std(np.array(G_IF_Exp_Theory_Noise)))\n",
    "#     G_IF_Exp_TheoryGate_STD.append(np.std(np.array(G_IF_Exp_TheoryGate_Noise)))\n",
    "#\n",
    "#     G_IF_Exp_Theory.append(np.mean(np.array(G_IF_Exp_Theory_Noise)))\n",
    "#     G_IF_Exp_TheoryGate.append(np.mean(np.array(G_IF_Exp_TheoryGate_Noise)))\n",
    "#\n",
    "# G_T_theory = np.array(G_T)/(np.pi/(qSys.twoQubitValues[0][1]['ZZ']*2*np.pi))\n",
    "#\n",
    "# plt.errorbar(x=G_T_theory, y=G_IF_Exp_Theory, fmt='bo-', label='IF Exp/Theory', yerr=G_IF_Exp_Theory_STD)\n",
    "# plt.plot(G_T_theory, G_IF_Theory_TheoryGate, 'go-', label='IF Theory/CNOT')\n",
    "# plt.errorbar(x=G_T_theory, y=G_IF_Exp_TheoryGate, fmt='ro-', label='IF Exp/CNOT', yerr=G_IF_Exp_TheoryGate_STD)\n",
    "#\n",
    "# plt.legend()\n",
    "# # plt.legend(['IF Theory/CNOT', 'IF Exp/CNOT'])\n",
    "# plt.title('CNOT Q0-XY Q1-XY square 4segs $\\Omega=7.5MHz$ ')\n",
    "# plt.xlabel('Gate T (units of pi/gz)')\n",
    "# plt.ylabel('Infidelity')\n",
    "# plt.show()"
   ],
   "metadata": {
    "collapsed": false,
    "pycharm": {
     "name": "#%%\n"
    }
   }
  }
 ],
 "metadata": {
  "kernelspec": {
   "display_name": "Python 3",
   "language": "python",
   "name": "python3"
  },
  "language_info": {
   "codemirror_mode": {
    "name": "ipython",
    "version": 3
   },
   "file_extension": ".py",
   "mimetype": "text/x-python",
   "name": "python",
   "nbconvert_exporter": "python",
   "pygments_lexer": "ipython3",
   "version": "3.9.5"
  }
 },
 "nbformat": 4,
 "nbformat_minor": 2
}