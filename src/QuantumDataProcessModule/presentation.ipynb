{
 "cells": [
  {
   "cell_type": "markdown",
   "metadata": {},
   "source": [
    "# Quantum Data Processing Module"
   ]
  },
  {
   "cell_type": "markdown",
   "metadata": {},
   "source": [
    "## Introduction"
   ]
  },
  {
   "cell_type": "markdown",
   "metadata": {},
   "source": [
    "QDPM is a Python program handling our experiment configuration and data analysis. It is a step towards all-Python sequence generating and data processing workflow. \n",
    "\n",
    "Main goals:\n",
    "- easy access to experiment setup\n",
    "- data processing & fitting\n",
    "- cooperate with PyQLab(QGL) to provide data-based sequence update\n",
    "- integrate into LabVIEW to achieve feedback capability\n",
    "- automatic qubit tune-up (long term)"
   ]
  },
  {
   "cell_type": "markdown",
   "metadata": {},
   "source": [
    "## Examples"
   ]
  },
  {
   "cell_type": "markdown",
   "metadata": {},
   "source": [
    "### Qubit Ramsey experiment"
   ]
  },
  {
   "cell_type": "code",
   "execution_count": 1,
   "metadata": {},
   "outputs": [],
   "source": [
    "import qdpm"
   ]
  },
  {
   "cell_type": "code",
   "execution_count": 2,
   "metadata": {},
   "outputs": [],
   "source": [
    "import numpy as np\n",
    "import matplotlib.pyplot as plt\n",
    "%matplotlib inline"
   ]
  },
  {
   "cell_type": "markdown",
   "metadata": {},
   "source": [
    "<br/><br/>Call class **Experiment** to initiate data processing.<br/><br/>"
   ]
  },
  {
   "cell_type": "code",
   "execution_count": 3,
   "metadata": {
    "tags": []
   },
   "outputs": [],
   "source": [
    "ramsey_exp = qdpm.Experiment(r'O:\\68707\\BF2222\\LABVIEWdata\\Cooldown20200221_Nb_SWIPHT_MB_W8_180nm\\Heterodyne\\Full spectrum from Ramsey\\00 -- 10\\2020_02_24_17_59_27')"
   ]
  },
  {
   "cell_type": "markdown",
   "metadata": {},
   "source": [
    "<br/><br/>Experiment configuration and data is packed into the object ***ramsey_exp***.<br/><br/>"
   ]
  },
  {
   "cell_type": "code",
   "execution_count": 4,
   "metadata": {},
   "outputs": [
    {
     "data": {
      "text/html": [
       "<div>\n",
       "<style scoped>\n",
       "    .dataframe tbody tr th:only-of-type {\n",
       "        vertical-align: middle;\n",
       "    }\n",
       "\n",
       "    .dataframe tbody tr th {\n",
       "        vertical-align: top;\n",
       "    }\n",
       "\n",
       "    .dataframe thead th {\n",
       "        text-align: right;\n",
       "    }\n",
       "</style>\n",
       "<table border=\"1\" class=\"dataframe\">\n",
       "  <thead>\n",
       "    <tr style=\"text-align: right;\">\n",
       "      <th></th>\n",
       "      <th>0</th>\n",
       "      <th>1</th>\n",
       "    </tr>\n",
       "  </thead>\n",
       "  <tbody>\n",
       "    <tr>\n",
       "      <th>Enabled</th>\n",
       "      <td>TRUE</td>\n",
       "      <td>TRUE</td>\n",
       "    </tr>\n",
       "    <tr>\n",
       "      <th>Target</th>\n",
       "      <td>Sequencer</td>\n",
       "      <td>Repeat</td>\n",
       "    </tr>\n",
       "    <tr>\n",
       "      <th>Parameter</th>\n",
       "      <td>N.A.</td>\n",
       "      <td>Smp</td>\n",
       "    </tr>\n",
       "    <tr>\n",
       "      <th>Scan #</th>\n",
       "      <td>0</td>\n",
       "      <td>1</td>\n",
       "    </tr>\n",
       "    <tr>\n",
       "      <th>Object #</th>\n",
       "      <td>999</td>\n",
       "      <td>999</td>\n",
       "    </tr>\n",
       "    <tr>\n",
       "      <th>Start</th>\n",
       "      <td>0.000000</td>\n",
       "      <td>0.000000</td>\n",
       "    </tr>\n",
       "    <tr>\n",
       "      <th>Stop</th>\n",
       "      <td>0.000000</td>\n",
       "      <td>999.000000</td>\n",
       "    </tr>\n",
       "    <tr>\n",
       "      <th># of Step</th>\n",
       "      <td>1</td>\n",
       "      <td>1000</td>\n",
       "    </tr>\n",
       "  </tbody>\n",
       "</table>\n",
       "</div>"
      ],
      "text/plain": [
       "                   0           1\n",
       "Enabled         TRUE        TRUE\n",
       "Target     Sequencer      Repeat\n",
       "Parameter       N.A.         Smp\n",
       "Scan #             0           1\n",
       "Object #         999         999\n",
       "Start       0.000000    0.000000\n",
       "Stop        0.000000  999.000000\n",
       "# of Step          1        1000"
      ]
     },
     "execution_count": 4,
     "metadata": {},
     "output_type": "execute_result"
    }
   ],
   "source": [
    "ramsey_exp.scan_setup"
   ]
  },
  {
   "cell_type": "code",
   "execution_count": 5,
   "metadata": {},
   "outputs": [
    {
     "data": {
      "text/plain": [
       "array([ 101, 1000])"
      ]
     },
     "execution_count": 5,
     "metadata": {},
     "output_type": "execute_result"
    }
   ],
   "source": [
    "ramsey_exp.scan_size"
   ]
  },
  {
   "cell_type": "code",
   "execution_count": 6,
   "metadata": {},
   "outputs": [
    {
     "data": {
      "text/plain": [
       "[array([  0.,   1.,   2.,   3.,   4.,   5.,   6.,   7.,   8.,   9.,  10.,\n",
       "         11.,  12.,  13.,  14.,  15.,  16.,  17.,  18.,  19.,  20.,  21.,\n",
       "         22.,  23.,  24.,  25.,  26.,  27.,  28.,  29.,  30.,  31.,  32.,\n",
       "         33.,  34.,  35.,  36.,  37.,  38.,  39.,  40.,  41.,  42.,  43.,\n",
       "         44.,  45.,  46.,  47.,  48.,  49.,  50.,  51.,  52.,  53.,  54.,\n",
       "         55.,  56.,  57.,  58.,  59.,  60.,  61.,  62.,  63.,  64.,  65.,\n",
       "         66.,  67.,  68.,  69.,  70.,  71.,  72.,  73.,  74.,  75.,  76.,\n",
       "         77.,  78.,  79.,  80.,  81.,  82.,  83.,  84.,  85.,  86.,  87.,\n",
       "         88.,  89.,  90.,  91.,  92.,  93.,  94.,  95.,  96.,  97.,  98.,\n",
       "         99., 100.]),\n",
       " array([  0.,   1.,   2.,   3.,   4.,   5.,   6.,   7.,   8.,   9.,  10.,\n",
       "         11.,  12.,  13.,  14.,  15.,  16.,  17.,  18.,  19.,  20.,  21.,\n",
       "         22.,  23.,  24.,  25.,  26.,  27.,  28.,  29.,  30.,  31.,  32.,\n",
       "         33.,  34.,  35.,  36.,  37.,  38.,  39.,  40.,  41.,  42.,  43.,\n",
       "         44.,  45.,  46.,  47.,  48.,  49.,  50.,  51.,  52.,  53.,  54.,\n",
       "         55.,  56.,  57.,  58.,  59.,  60.,  61.,  62.,  63.,  64.,  65.,\n",
       "         66.,  67.,  68.,  69.,  70.,  71.,  72.,  73.,  74.,  75.,  76.,\n",
       "         77.,  78.,  79.,  80.,  81.,  82.,  83.,  84.,  85.,  86.,  87.,\n",
       "         88.,  89.,  90.,  91.,  92.,  93.,  94.,  95.,  96.,  97.,  98.,\n",
       "         99., 100., 101., 102., 103., 104., 105., 106., 107., 108., 109.,\n",
       "        110., 111., 112., 113., 114., 115., 116., 117., 118., 119., 120.,\n",
       "        121., 122., 123., 124., 125., 126., 127., 128., 129., 130., 131.,\n",
       "        132., 133., 134., 135., 136., 137., 138., 139., 140., 141., 142.,\n",
       "        143., 144., 145., 146., 147., 148., 149., 150., 151., 152., 153.,\n",
       "        154., 155., 156., 157., 158., 159., 160., 161., 162., 163., 164.,\n",
       "        165., 166., 167., 168., 169., 170., 171., 172., 173., 174., 175.,\n",
       "        176., 177., 178., 179., 180., 181., 182., 183., 184., 185., 186.,\n",
       "        187., 188., 189., 190., 191., 192., 193., 194., 195., 196., 197.,\n",
       "        198., 199., 200., 201., 202., 203., 204., 205., 206., 207., 208.,\n",
       "        209., 210., 211., 212., 213., 214., 215., 216., 217., 218., 219.,\n",
       "        220., 221., 222., 223., 224., 225., 226., 227., 228., 229., 230.,\n",
       "        231., 232., 233., 234., 235., 236., 237., 238., 239., 240., 241.,\n",
       "        242., 243., 244., 245., 246., 247., 248., 249., 250., 251., 252.,\n",
       "        253., 254., 255., 256., 257., 258., 259., 260., 261., 262., 263.,\n",
       "        264., 265., 266., 267., 268., 269., 270., 271., 272., 273., 274.,\n",
       "        275., 276., 277., 278., 279., 280., 281., 282., 283., 284., 285.,\n",
       "        286., 287., 288., 289., 290., 291., 292., 293., 294., 295., 296.,\n",
       "        297., 298., 299., 300., 301., 302., 303., 304., 305., 306., 307.,\n",
       "        308., 309., 310., 311., 312., 313., 314., 315., 316., 317., 318.,\n",
       "        319., 320., 321., 322., 323., 324., 325., 326., 327., 328., 329.,\n",
       "        330., 331., 332., 333., 334., 335., 336., 337., 338., 339., 340.,\n",
       "        341., 342., 343., 344., 345., 346., 347., 348., 349., 350., 351.,\n",
       "        352., 353., 354., 355., 356., 357., 358., 359., 360., 361., 362.,\n",
       "        363., 364., 365., 366., 367., 368., 369., 370., 371., 372., 373.,\n",
       "        374., 375., 376., 377., 378., 379., 380., 381., 382., 383., 384.,\n",
       "        385., 386., 387., 388., 389., 390., 391., 392., 393., 394., 395.,\n",
       "        396., 397., 398., 399., 400., 401., 402., 403., 404., 405., 406.,\n",
       "        407., 408., 409., 410., 411., 412., 413., 414., 415., 416., 417.,\n",
       "        418., 419., 420., 421., 422., 423., 424., 425., 426., 427., 428.,\n",
       "        429., 430., 431., 432., 433., 434., 435., 436., 437., 438., 439.,\n",
       "        440., 441., 442., 443., 444., 445., 446., 447., 448., 449., 450.,\n",
       "        451., 452., 453., 454., 455., 456., 457., 458., 459., 460., 461.,\n",
       "        462., 463., 464., 465., 466., 467., 468., 469., 470., 471., 472.,\n",
       "        473., 474., 475., 476., 477., 478., 479., 480., 481., 482., 483.,\n",
       "        484., 485., 486., 487., 488., 489., 490., 491., 492., 493., 494.,\n",
       "        495., 496., 497., 498., 499., 500., 501., 502., 503., 504., 505.,\n",
       "        506., 507., 508., 509., 510., 511., 512., 513., 514., 515., 516.,\n",
       "        517., 518., 519., 520., 521., 522., 523., 524., 525., 526., 527.,\n",
       "        528., 529., 530., 531., 532., 533., 534., 535., 536., 537., 538.,\n",
       "        539., 540., 541., 542., 543., 544., 545., 546., 547., 548., 549.,\n",
       "        550., 551., 552., 553., 554., 555., 556., 557., 558., 559., 560.,\n",
       "        561., 562., 563., 564., 565., 566., 567., 568., 569., 570., 571.,\n",
       "        572., 573., 574., 575., 576., 577., 578., 579., 580., 581., 582.,\n",
       "        583., 584., 585., 586., 587., 588., 589., 590., 591., 592., 593.,\n",
       "        594., 595., 596., 597., 598., 599., 600., 601., 602., 603., 604.,\n",
       "        605., 606., 607., 608., 609., 610., 611., 612., 613., 614., 615.,\n",
       "        616., 617., 618., 619., 620., 621., 622., 623., 624., 625., 626.,\n",
       "        627., 628., 629., 630., 631., 632., 633., 634., 635., 636., 637.,\n",
       "        638., 639., 640., 641., 642., 643., 644., 645., 646., 647., 648.,\n",
       "        649., 650., 651., 652., 653., 654., 655., 656., 657., 658., 659.,\n",
       "        660., 661., 662., 663., 664., 665., 666., 667., 668., 669., 670.,\n",
       "        671., 672., 673., 674., 675., 676., 677., 678., 679., 680., 681.,\n",
       "        682., 683., 684., 685., 686., 687., 688., 689., 690., 691., 692.,\n",
       "        693., 694., 695., 696., 697., 698., 699., 700., 701., 702., 703.,\n",
       "        704., 705., 706., 707., 708., 709., 710., 711., 712., 713., 714.,\n",
       "        715., 716., 717., 718., 719., 720., 721., 722., 723., 724., 725.,\n",
       "        726., 727., 728., 729., 730., 731., 732., 733., 734., 735., 736.,\n",
       "        737., 738., 739., 740., 741., 742., 743., 744., 745., 746., 747.,\n",
       "        748., 749., 750., 751., 752., 753., 754., 755., 756., 757., 758.,\n",
       "        759., 760., 761., 762., 763., 764., 765., 766., 767., 768., 769.,\n",
       "        770., 771., 772., 773., 774., 775., 776., 777., 778., 779., 780.,\n",
       "        781., 782., 783., 784., 785., 786., 787., 788., 789., 790., 791.,\n",
       "        792., 793., 794., 795., 796., 797., 798., 799., 800., 801., 802.,\n",
       "        803., 804., 805., 806., 807., 808., 809., 810., 811., 812., 813.,\n",
       "        814., 815., 816., 817., 818., 819., 820., 821., 822., 823., 824.,\n",
       "        825., 826., 827., 828., 829., 830., 831., 832., 833., 834., 835.,\n",
       "        836., 837., 838., 839., 840., 841., 842., 843., 844., 845., 846.,\n",
       "        847., 848., 849., 850., 851., 852., 853., 854., 855., 856., 857.,\n",
       "        858., 859., 860., 861., 862., 863., 864., 865., 866., 867., 868.,\n",
       "        869., 870., 871., 872., 873., 874., 875., 876., 877., 878., 879.,\n",
       "        880., 881., 882., 883., 884., 885., 886., 887., 888., 889., 890.,\n",
       "        891., 892., 893., 894., 895., 896., 897., 898., 899., 900., 901.,\n",
       "        902., 903., 904., 905., 906., 907., 908., 909., 910., 911., 912.,\n",
       "        913., 914., 915., 916., 917., 918., 919., 920., 921., 922., 923.,\n",
       "        924., 925., 926., 927., 928., 929., 930., 931., 932., 933., 934.,\n",
       "        935., 936., 937., 938., 939., 940., 941., 942., 943., 944., 945.,\n",
       "        946., 947., 948., 949., 950., 951., 952., 953., 954., 955., 956.,\n",
       "        957., 958., 959., 960., 961., 962., 963., 964., 965., 966., 967.,\n",
       "        968., 969., 970., 971., 972., 973., 974., 975., 976., 977., 978.,\n",
       "        979., 980., 981., 982., 983., 984., 985., 986., 987., 988., 989.,\n",
       "        990., 991., 992., 993., 994., 995., 996., 997., 998., 999.])]"
      ]
     },
     "execution_count": 6,
     "metadata": {},
     "output_type": "execute_result"
    }
   ],
   "source": [
    "ramsey_exp.scan_value"
   ]
  },
  {
   "cell_type": "markdown",
   "metadata": {},
   "source": [
    "<br/><br/>Experiment data can be accessed with attribute **data**. It is indexed as **data**\\[*readout resonator index*\\]\\[*quadrature index*\\]\\[*scan size*\\]<br/><br/>"
   ]
  },
  {
   "cell_type": "code",
   "execution_count": 7,
   "metadata": {},
   "outputs": [
    {
     "data": {
      "text/plain": [
       "0.008475724"
      ]
     },
     "execution_count": 7,
     "metadata": {},
     "output_type": "execute_result"
    }
   ],
   "source": [
    "ramsey_exp.data[0][0][0, 999]"
   ]
  },
  {
   "cell_type": "markdown",
   "metadata": {},
   "source": [
    "<br/><br/>Then, the program uses support vector machine to classify each shot into ground or excited state.<br/><br/>"
   ]
  },
  {
   "cell_type": "code",
   "execution_count": 8,
   "metadata": {},
   "outputs": [],
   "source": [
    "clf = qdpm.SingleQubitClassifier(ramsey_exp, qubit=0)"
   ]
  },
  {
   "cell_type": "code",
   "execution_count": 10,
   "metadata": {},
   "outputs": [
    {
     "name": "stdout",
     "output_type": "stream",
     "text": [
      "<bound method QubitClassifier.c_matrix of <qdpm.analysis.classifier.SingleQubitClassifier object at 0x00000185C0EE4A60>>\n"
     ]
    }
   ],
   "source": [
    "print(clf.c_matrix)"
   ]
  },
  {
   "cell_type": "code",
   "execution_count": null,
   "metadata": {},
   "outputs": [],
   "source": [
    "clf.plot_boundary()"
   ]
  },
  {
   "cell_type": "markdown",
   "metadata": {},
   "source": [
    "<br/><br/>Method **ClassifierOneQubit.predict()** is called to decide states of all shots.<br/><br/>"
   ]
  },
  {
   "cell_type": "code",
   "execution_count": null,
   "metadata": {},
   "outputs": [],
   "source": [
    "prediction = clf.predict()"
   ]
  },
  {
   "cell_type": "code",
   "execution_count": null,
   "metadata": {},
   "outputs": [],
   "source": [
    "prediction"
   ]
  },
  {
   "cell_type": "code",
   "execution_count": null,
   "metadata": {},
   "outputs": [],
   "source": [
    "population = prediction.mean(axis=1)\n",
    "tau = np.linspace(0, 50, ramsey_exp.scan_size[0])"
   ]
  },
  {
   "cell_type": "markdown",
   "metadata": {},
   "source": [
    "<br/><br/>Call class **RamseyFit** to do curve fitting and plotting.<br/><br/>"
   ]
  },
  {
   "cell_type": "code",
   "execution_count": 19,
   "metadata": {},
   "outputs": [
    {
     "ename": "NameError",
     "evalue": "name 'tau' is not defined",
     "output_type": "error",
     "traceback": [
      "\u001b[1;31m---------------------------------------------------------------------------\u001b[0m",
      "\u001b[1;31mNameError\u001b[0m                                 Traceback (most recent call last)",
      "\u001b[1;32m<ipython-input-19-bb4d47d4280b>\u001b[0m in \u001b[0;36m<module>\u001b[1;34m\u001b[0m\n\u001b[0;32m      1\u001b[0m \u001b[0mfig\u001b[0m\u001b[1;33m,\u001b[0m \u001b[0max\u001b[0m \u001b[1;33m=\u001b[0m \u001b[0mplt\u001b[0m\u001b[1;33m.\u001b[0m\u001b[0msubplots\u001b[0m\u001b[1;33m(\u001b[0m\u001b[0mfigsize\u001b[0m\u001b[1;33m=\u001b[0m\u001b[1;33m(\u001b[0m\u001b[1;36m10.8\u001b[0m\u001b[1;33m,\u001b[0m \u001b[1;36m7.2\u001b[0m\u001b[1;33m)\u001b[0m\u001b[1;33m)\u001b[0m\u001b[1;33m\u001b[0m\u001b[1;33m\u001b[0m\u001b[0m\n\u001b[1;32m----> 2\u001b[1;33m \u001b[0mramsey_fit\u001b[0m \u001b[1;33m=\u001b[0m \u001b[0mqdpm\u001b[0m\u001b[1;33m.\u001b[0m\u001b[0mRamseyFit\u001b[0m\u001b[1;33m(\u001b[0m\u001b[0mtau\u001b[0m\u001b[1;33m,\u001b[0m \u001b[0mpopulation\u001b[0m\u001b[1;33m,\u001b[0m \u001b[0mtwo_freqs\u001b[0m\u001b[1;33m=\u001b[0m\u001b[1;32mFalse\u001b[0m\u001b[1;33m,\u001b[0m \u001b[0mmake_plots\u001b[0m\u001b[1;33m=\u001b[0m\u001b[1;32mTrue\u001b[0m\u001b[1;33m,\u001b[0m \u001b[0max\u001b[0m\u001b[1;33m=\u001b[0m\u001b[0max\u001b[0m\u001b[1;33m)\u001b[0m\u001b[1;33m\u001b[0m\u001b[1;33m\u001b[0m\u001b[0m\n\u001b[0m\u001b[0;32m      3\u001b[0m \u001b[0max\u001b[0m\u001b[1;33m.\u001b[0m\u001b[0mset_xlabel\u001b[0m\u001b[1;33m(\u001b[0m\u001b[1;34mr'Ramsey delay ($\\mu s$)'\u001b[0m\u001b[1;33m)\u001b[0m\u001b[1;33m\u001b[0m\u001b[1;33m\u001b[0m\u001b[0m\n\u001b[0;32m      4\u001b[0m \u001b[0max\u001b[0m\u001b[1;33m.\u001b[0m\u001b[0mset_ylabel\u001b[0m\u001b[1;33m(\u001b[0m\u001b[1;34mr'$P_e$'\u001b[0m\u001b[1;33m)\u001b[0m\u001b[1;33m\u001b[0m\u001b[1;33m\u001b[0m\u001b[0m\n\u001b[0;32m      5\u001b[0m \u001b[0max\u001b[0m\u001b[1;33m.\u001b[0m\u001b[0mset_xlim\u001b[0m\u001b[1;33m(\u001b[0m\u001b[1;36m0\u001b[0m\u001b[1;33m,\u001b[0m \u001b[1;36m50\u001b[0m\u001b[1;33m)\u001b[0m\u001b[1;33m\u001b[0m\u001b[1;33m\u001b[0m\u001b[0m\n",
      "\u001b[1;31mNameError\u001b[0m: name 'tau' is not defined"
     ]
    },
    {
     "data": {
      "image/png": "[encoded data removed]",
      "text/plain": [
       "<Figure size 777.6x518.4 with 1 Axes>"
      ]
     },
     "metadata": {
      "needs_background": "light"
     },
     "output_type": "display_data"
    }
   ],
   "source": [
    "fig, ax = plt.subplots(figsize=(10.8, 7.2))\n",
    "ramsey_fit = qdpm.RamseyFit(tau, population, two_freqs=False, make_plots=True, ax=ax)\n",
    "ax.set_xlabel(r'Ramsey delay ($\\mu s$)')\n",
    "ax.set_ylabel(r'$P_e$')\n",
    "ax.set_xlim(0, 50)\n",
    "ax.set_ylim(0, 1)\n",
    "ax.tick_params(axis='x', labelsize=12)\n",
    "ax.tick_params(axis='y', labelsize=12)\n",
    "plt.show()"
   ]
  },
  {
   "cell_type": "markdown",
   "metadata": {},
   "source": [
    "<br/><br/>Analysis results are packed into ***ramsey_fit*** object.<br/><br/>"
   ]
  },
  {
   "cell_type": "code",
   "execution_count": null,
   "metadata": {
    "scrolled": true,
    "tags": []
   },
   "outputs": [],
   "source": [
    "print(ramsey_fit)"
   ]
  },
  {
   "cell_type": "code",
   "execution_count": null,
   "metadata": {},
   "outputs": [],
   "source": [
    "ramsey_fit.fit_params"
   ]
  },
  {
   "cell_type": "code",
   "execution_count": null,
   "metadata": {},
   "outputs": [],
   "source": [
    "ramsey_fit.fit_errors"
   ]
  },
  {
   "cell_type": "markdown",
   "metadata": {},
   "source": [
    "<br/><br/>"
   ]
  },
  {
   "cell_type": "markdown",
   "metadata": {},
   "source": [
    "### State Tomography Experiment"
   ]
  },
  {
   "cell_type": "code",
   "execution_count": 20,
   "metadata": {},
   "outputs": [],
   "source": [
    "from qutip import identity, tensor, basis\n",
    "from qutip.qip.operations import rx, ry, cphase"
   ]
  },
  {
   "cell_type": "markdown",
   "metadata": {},
   "source": [
    "<br/><br/>Call class **Experiment** to initiate data processing.<br/><br/>"
   ]
  },
  {
   "cell_type": "code",
   "execution_count": 21,
   "metadata": {},
   "outputs": [],
   "source": [
    "state_tomo_exp = qdpm.Experiment(r'O:\\68707\\BF2222\\LABVIEWdata\\Cooldown20200221_Nb_SWIPHT_MB_W8_180nm\\Heterodyne\\QST\\Free evolution CZ_Pulse Train\\YPiO2 X YPiO2\\2020_03_01_23_44_29')"
   ]
  },
  {
   "cell_type": "markdown",
   "metadata": {},
   "source": [
    "<br/><br/>Then we have to define some constants before constructing a state tomography experiment.<br/><br/>"
   ]
  },
  {
   "cell_type": "code",
   "execution_count": 13,
   "metadata": {},
   "outputs": [],
   "source": [
    "rotation = [identity(2),\n",
    "            rx(-np.pi/2),\n",
    "            ry(np.pi/2)]\n",
    "\n",
    "initial_state = tensor((basis(2, 0) + basis(2, 1)).unit(),\n",
    "                       (basis(2, 0) + basis(2, 1)).unit())\n",
    "target = cphase(np.pi) * initial_state"
   ]
  },
  {
   "cell_type": "markdown",
   "metadata": {},
   "source": [
    "<br/><br/>Call class **StateTomography** to construct the experiment.<br/><br/>"
   ]
  },
  {
   "cell_type": "code",
   "execution_count": 14,
   "metadata": {},
   "outputs": [],
   "source": [
    "tomo = qdpm.StateTomography(state_tomo_exp, rotation, theory_state=target)"
   ]
  },
  {
   "cell_type": "code",
   "execution_count": 22,
   "metadata": {},
   "outputs": [
    {
     "data": {
      "text/plain": [
       "array([[ 0.24975094+0.j        ,  0.24997658-0.06014595j,\n",
       "         0.21756623-0.04967486j, -0.2270638 +0.06459926j],\n",
       "       [ 0.24997658+0.06014595j,  0.2841651 +0.j        ,\n",
       "         0.20808963+0.0192791j , -0.23508099+0.00313321j],\n",
       "       [ 0.21756623+0.04967486j,  0.20808963-0.0192791j ,\n",
       "         0.23750806+0.j        , -0.22504788+0.01211812j],\n",
       "       [-0.2270638 -0.06459926j, -0.23508099-0.00313321j,\n",
       "        -0.22504788-0.01211812j,  0.22858101+0.j        ]])"
      ]
     },
     "execution_count": 22,
     "metadata": {},
     "output_type": "execute_result"
    }
   ],
   "source": [
    "tomo.rho_mle"
   ]
  },
  {
   "cell_type": "code",
   "execution_count": 16,
   "metadata": {},
   "outputs": [
    {
     "data": {
      "image/png": "[encoded data removed]",
      "text/plain": [
       "<Figure size 432x288 with 2 Axes>"
      ]
     },
     "metadata": {
      "needs_background": "light"
     },
     "output_type": "display_data"
    }
   ],
   "source": [
    "tomo.plot(part='real', ax=None)\n",
    "plt.show()"
   ]
  },
  {
   "cell_type": "code",
   "execution_count": 23,
   "metadata": {},
   "outputs": [
    {
     "data": {
      "image/png": "[encoded data removed]",
      "text/plain": [
       "<Figure size 432x288 with 2 Axes>"
      ]
     },
     "metadata": {
      "needs_background": "light"
     },
     "output_type": "display_data"
    }
   ],
   "source": [
    "tomo.plot_theory(part='real', ax=None)\n",
    "plt.show()"
   ]
  },
  {
   "cell_type": "code",
   "execution_count": 24,
   "metadata": {},
   "outputs": [
    {
     "data": {
      "text/plain": [
       "0.9650978395524734"
      ]
     },
     "execution_count": 24,
     "metadata": {},
     "output_type": "execute_result"
    }
   ],
   "source": [
    "tomo.fidelity"
   ]
  },
  {
   "cell_type": "markdown",
   "metadata": {},
   "source": [
    "<br/><br/>"
   ]
  },
  {
   "cell_type": "markdown",
   "metadata": {},
   "source": [
    "### LabVIEW Integration"
   ]
  },
  {
   "cell_type": "markdown",
   "metadata": {},
   "source": [
    "Python code:<br/><br/>"
   ]
  },
  {
   "cell_type": "code",
   "execution_count": null,
   "metadata": {},
   "outputs": [],
   "source": [
    "def ramsey(path):\n",
    "    exp_path = Path(path)\n",
    "    img_path = exp_path.joinpath('ramsey.png')\n",
    "    \n",
    "    ramsey_exp = qdpm.Experiment(path)\n",
    "    clf = qdpm.ClassifierOneQubit(ramsey_exp, qubit=1)\n",
    "    \n",
    "    prediction = clf.predict()\n",
    "    population = prediction.mean(axis=1)\n",
    "    tau = np.linspace(0, 50, ramsey_exp.scan_size[0])\n",
    "    \n",
    "    fig, ax = plt.subplots()\n",
    "    ramsey_fit = qdpm.RamseyFit(tau, population, two_freqs=False, make_plots=True, ax=ax)\n",
    "    ax.set_xlabel(r'Ramsey delay ($\\mu s$)')\n",
    "    ax.set_ylabel(r'$P_e$')\n",
    "    ax.set_xlim(0, 50)\n",
    "    ax.set_ylim(0, 1)\n",
    "    ax.tick_params(axis='x', labelsize=12)\n",
    "    ax.tick_params(axis='y', labelsize=12)\n",
    "    fig.savefig(img_path)\n",
    "    \n",
    "    return [str(img_path), str(ramsey_fit.fit_params['tau'])]"
   ]
  },
  {
   "cell_type": "markdown",
   "metadata": {},
   "source": [
    "## Development progress"
   ]
  },
  {
   "cell_type": "markdown",
   "metadata": {},
   "source": [
    "- Program core part is close to finished\n",
    "- Run tests on more data to debug\n",
    "- Documentation"
   ]
  },
  {
   "cell_type": "code",
   "execution_count": null,
   "metadata": {},
   "outputs": [],
   "source": []
  }
 ],
 "metadata": {
  "kernelspec": {
   "display_name": "Python 3.8.3 64-bit ('qdpm': conda)",
   "language": "python",
   "name": "python38364bitqdpmconda95c5a94032124f0c9dae59ff42aedb37"
  },
  "language_info": {
   "codemirror_mode": {
    "name": "ipython",
    "version": 3
   },
   "file_extension": ".py",
   "mimetype": "text/x-python",
   "name": "python",
   "nbconvert_exporter": "python",
   "pygments_lexer": "ipython3",
   "version": "3.8.3"
  }
 },
 "nbformat": 4,
 "nbformat_minor": 2
}
