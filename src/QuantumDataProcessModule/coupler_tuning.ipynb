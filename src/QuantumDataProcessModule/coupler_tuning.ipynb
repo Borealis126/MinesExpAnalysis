{
 "metadata": {
  "language_info": {
   "codemirror_mode": {
    "name": "ipython",
    "version": 3
   },
   "file_extension": ".py",
   "mimetype": "text/x-python",
   "name": "python",
   "nbconvert_exporter": "python",
   "pygments_lexer": "ipython3",
   "version": "3.9.5"
  },
  "orig_nbformat": 2,
  "kernelspec": {
   "name": "python3",
   "display_name": "Python 3.9.5 64-bit ('qdpm': conda)"
  },
  "interpreter": {
   "hash": "c9032b5f6bcfd45d20a3227c5dfbf0da1f5e23f0cbeecc040f53174a7146f337"
  }
 },
 "nbformat": 4,
 "nbformat_minor": 2,
 "cells": [
  {
   "cell_type": "code",
   "execution_count": 1,
   "source": [
    "import qdpm\r\n",
    "import numpy as np\r\n",
    "import matplotlib.pyplot as plt\r\n",
    "from qdpm.analysis.fits import *"
   ],
   "outputs": [],
   "metadata": {}
  },
  {
   "cell_type": "code",
   "execution_count": 2,
   "source": [
    "exp = qdpm.Experiment(r'O:\\68707\\BF2222\\LABVIEWdata\\Cooldown20200722\\Heterodyne\\PTC\\Coupler tuning\\2020_07_25_00_18_22')"
   ],
   "outputs": [],
   "metadata": {}
  },
  {
   "cell_type": "code",
   "execution_count": 6,
   "source": [
    "fig, ax = plt.subplots(1, 2, figsize=(12, 5.4), sharey=True)\r\n",
    "ax[0].pcolormesh(exp.mean_mag()[0, :, 0, :].T, cmap='jet')\r\n",
    "ax[1].pcolormesh(exp.mean_mag()[1, :, 1, :].T, cmap='jet')\r\n",
    "\r\n",
    "ax[0].set_xticks(np.arange(0, 201, 80))\r\n",
    "ax[0].set_xticklabels(exp.scan_value[0][0:201:80]-0.1005)\r\n",
    "ax[1].set_xticks(np.arange(0, 201, 80))\r\n",
    "ax[1].set_xticklabels(exp.scan_value[0][0:201:80]-0.05685)\r\n",
    "\r\n",
    "ax[0].set_yticks(np.arange(0, 41, 5))\r\n",
    "ax[0].set_yticklabels(exp.scan_value[2][0:41:5])\r\n",
    "\r\n",
    "\r\n",
    "ax[0].set_xlabel('Frequency(GHz)')\r\n",
    "ax[1].set_xlabel('Frequency(GHz)')\r\n",
    "ax[0].set_ylabel('Bias Voltage(mV)')\r\n",
    "\r\n",
    "fig.savefig(exp.path.joinpath('coupler tuning.png'))\r\n",
    "plt.show()"
   ],
   "outputs": [
    {
     "output_type": "display_data",
     "data": {
      "text/plain": [
       "Canvas(toolbar=Toolbar(toolitems=[('Home', 'Reset original view', 'home', 'home'), ('Back', 'Back to previous …"
      ],
      "application/vnd.jupyter.widget-view+json": {
       "version_major": 2,
       "version_minor": 0,
       "model_id": "9d3e5ac551344822888c7e44d05c3ca2"
      }
     },
     "metadata": {}
    }
   ],
   "metadata": {}
  },
  {
   "cell_type": "code",
   "execution_count": 5,
   "source": [
    "freq1 = []\r\n",
    "freq2 = []\r\n",
    "fitted_mag1 = []\r\n",
    "fitted_mag2 = []\r\n",
    "for bias_idx in range(exp.scan_size[2]):\r\n",
    "    fit1 = LorentzFit(exp.scan_value[0]-0.1005, exp.mean_mag()[0, :, 0, bias_idx])\r\n",
    "    fit2 = LorentzFit(exp.scan_value[0]-0.05685, exp.mean_mag()[1, :, 1, bias_idx])\r\n",
    "    freq1.append(fit1.fit_params['b'])\r\n",
    "    freq2.append(fit2.fit_params['b'])\r\n",
    "    fitted_mag1.append(fit1.model(np.linspace(min(exp.scan_value[0])-0.1005, max(exp.scan_value[0])-0.1005, 1001)))\r\n",
    "    fitted_mag2.append(fit2.model(np.linspace(min(exp.scan_value[0])-0.05685, max(exp.scan_value[0])-0.05685, 1001)))"
   ],
   "outputs": [],
   "metadata": {}
  },
  {
   "cell_type": "code",
   "execution_count": 12,
   "source": [
    "fitted_mag1 = np.array(fitted_mag1)\r\n",
    "fitted_mag2 = np.array(fitted_mag2)\r\n",
    "fig3, ax3 = plt.subplots(1, 2, figsize=(12, 5.4), sharey=True)\r\n",
    "ax3[0].pcolormesh(fitted_mag1, cmap='jet')\r\n",
    "ax3[1].pcolormesh(fitted_mag2, cmap='jet')\r\n",
    "plt.show()"
   ],
   "outputs": [
    {
     "output_type": "display_data",
     "data": {
      "text/plain": [
       "Canvas(toolbar=Toolbar(toolitems=[('Home', 'Reset original view', 'home', 'home'), ('Back', 'Back to previous …"
      ],
      "application/vnd.jupyter.widget-view+json": {
       "version_major": 2,
       "version_minor": 0,
       "model_id": "9e08bc00a634430ba5c0807f69da9bc8"
      }
     },
     "metadata": {}
    }
   ],
   "metadata": {}
  },
  {
   "cell_type": "code",
   "execution_count": 7,
   "source": [
    "fig2, ax2 = plt.subplots()\r\n",
    "ax2.plot(exp.scan_value[2], np.array(freq1))\r\n",
    "ax2.plot(exp.scan_value[2], np.array(freq2))\r\n",
    "plt.show()\r\n"
   ],
   "outputs": [
    {
     "output_type": "display_data",
     "data": {
      "text/plain": [
       "Canvas(toolbar=Toolbar(toolitems=[('Home', 'Reset original view', 'home', 'home'), ('Back', 'Back to previous …"
      ],
      "application/vnd.jupyter.widget-view+json": {
       "version_major": 2,
       "version_minor": 0,
       "model_id": "13ccc529c166406693da0fc55ecb89ca"
      }
     },
     "metadata": {}
    }
   ],
   "metadata": {}
  },
  {
   "cell_type": "code",
   "execution_count": 22,
   "source": [
    "print(np.min(np.array(freq1)))\r\n",
    "print(np.max(np.array(freq1)))\r\n",
    "print((np.min(np.array(freq2)) + np.max(np.array(freq2)))/2)"
   ],
   "outputs": [
    {
     "output_type": "stream",
     "name": "stdout",
     "text": [
      "5.691764897139919\n",
      "5.6957380974780305\n",
      "5.740102318955094\n"
     ]
    }
   ],
   "metadata": {
    "tags": []
   }
  },
  {
   "cell_type": "code",
   "execution_count": 13,
   "source": [
    "fit2 = LorentzFit(exp.scan_value[0]-0.05685, exp.mean_mag()[1, :, 1, 29], make_plots=True)"
   ],
   "outputs": [
    {
     "output_type": "display_data",
     "data": {
      "text/plain": [
       "Canvas(toolbar=Toolbar(toolitems=[('Home', 'Reset original view', 'home', 'home'), ('Back', 'Back to previous …"
      ],
      "application/vnd.jupyter.widget-view+json": {
       "version_major": 2,
       "version_minor": 0,
       "model_id": "e836db7995a9417e883ed8f41835f818"
      }
     },
     "metadata": {}
    }
   ],
   "metadata": {}
  },
  {
   "cell_type": "code",
   "execution_count": null,
   "source": [],
   "outputs": [],
   "metadata": {}
  }
 ]
}