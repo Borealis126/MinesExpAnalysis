{
 "cells": [
  {
   "cell_type": "code",
   "execution_count": 1,
   "source": [
    "import qdpm\r\n",
    "import numpy as np\r\n",
    "import matplotlib.pyplot as plt\r\n",
    "from qutip import identity, Qobj, tensor, basis, bell_state, ket2dm, sigmax, sigmay, sigmaz\r\n",
    "from qutip.qip.operations import rx, ry, cphase, cnot\r\n",
    "import itertools"
   ],
   "outputs": [],
   "metadata": {}
  },
  {
   "cell_type": "code",
   "execution_count": 2,
   "source": [
    "qst_exp = qdpm.Experiment(r'D:\\QPG\\toTongyu\\QST\\YPiO2 X YPiO2\\2021_02_17_19_00_41')\r\n",
    "# qst_exp = qdpm.Experiment(r'O:\\68707\\BF2222\\LABVIEWdata\\Cooldown20210114\\Heterodyne\\Nb_SWIPHT_MB_W8_180nm\\QST\\YPiO2 X YPiO2\\2021_02_17_19_00_41')"
   ],
   "outputs": [],
   "metadata": {}
  },
  {
   "cell_type": "code",
   "execution_count": 10,
   "source": [
    "rotation = [identity(2),\r\n",
    "            rx(-np.pi/2),\r\n",
    "            ry(np.pi/2)]\r\n",
    "\r\n",
    "initial_state = tensor((basis(2, 0) + basis(2, 1)).unit(),\r\n",
    "                       (basis(2, 0) + basis(2, 1)).unit())\r\n",
    "# initial_state = tensor((basis(2, 0) + basis(2, 1)).unit(),\r\n",
    "#                        (basis(2, 0) + basis(2, 1)).unit())"
   ],
   "outputs": [],
   "metadata": {}
  },
  {
   "cell_type": "code",
   "execution_count": 11,
   "source": [
    "def target_varying(phi):\r\n",
    "    return (np.exp(-1j*phi/2)*tensor(basis(2, 1), basis(2, 0))-1j*tensor(basis(2, 0), basis(2, 1))).unit()"
   ],
   "outputs": [],
   "metadata": {}
  },
  {
   "cell_type": "code",
   "execution_count": 12,
   "source": [
    "target = cphase(np.pi)*initial_state"
   ],
   "outputs": [],
   "metadata": {}
  },
  {
   "cell_type": "code",
   "execution_count": 13,
   "source": [
    "fidelity = np.zeros(41)\r\n",
    "phi = np.linspace(2*np.pi, 2.5*np.pi, 41)\r\n",
    "for n in range(len(phi)):\r\n",
    "    qst = qdpm.StateTomography(qst_exp, rotation, theory_state=target_varying(phi[n]))\r\n",
    "    fidelity[n] = qst.fidelity"
   ],
   "outputs": [],
   "metadata": {}
  },
  {
   "cell_type": "code",
   "execution_count": 14,
   "source": [
    "max_idx = np.argmax(fidelity)"
   ],
   "outputs": [],
   "metadata": {}
  },
  {
   "cell_type": "code",
   "execution_count": 15,
   "source": [
    "qst = qdpm.StateTomography(qst_exp, rotation, theory_state=target_varying(phi[max_idx]))"
   ],
   "outputs": [],
   "metadata": {}
  },
  {
   "cell_type": "code",
   "execution_count": 16,
   "source": [
    "qst.fidelity"
   ],
   "outputs": [
    {
     "output_type": "execute_result",
     "data": {
      "text/plain": [
       "0.43119499004164724"
      ]
     },
     "metadata": {},
     "execution_count": 16
    }
   ],
   "metadata": {}
  },
  {
   "cell_type": "code",
   "execution_count": null,
   "source": [
    "fig, ax = plt.subplots()\r\n",
    "qst.plot(part='real', ax=ax)\r\n",
    "ax.set_title(r'$Re(\\rho)$', fontsize=20)\r\n",
    "# fig.savefig(qst_exp.path.joinpath('rho_MLE_real_part.png'), bbox_inches='tight', transparent=True)\r\n",
    "plt.show()"
   ],
   "outputs": [],
   "metadata": {}
  },
  {
   "cell_type": "code",
   "execution_count": null,
   "source": [
    "fig, ax = plt.subplots()\r\n",
    "qst_max.plot(part='imag', ax=ax)\r\n",
    "ax.set_title(r'$Im(\\rho)$', fontsize=20)\r\n",
    "fig.savefig(qst_exp.path.joinpath('rho_MLE_imaginary_part.png'), bbox_inches='tight', transparent=True)\r\n",
    "plt.show()"
   ],
   "outputs": [],
   "metadata": {}
  },
  {
   "cell_type": "code",
   "execution_count": null,
   "source": [
    "fig, ax = plt.subplots()\r\n",
    "qst_max.plot_theory(part='real', ax=ax)\r\n",
    "fig.savefig(qst_exp.path.joinpath('rho_theory_real_part.png'))\r\n",
    "plt.show()"
   ],
   "outputs": [],
   "metadata": {}
  },
  {
   "cell_type": "code",
   "execution_count": null,
   "source": [
    "fig, ax = plt.subplots()\r\n",
    "qst_max.plot_theory(part='imag', ax=ax)\r\n",
    "fig.savefig(qst_exp.path.joinpath('rho_theory_imaginary_part.png'))\r\n",
    "plt.show()"
   ],
   "outputs": [],
   "metadata": {}
  },
  {
   "cell_type": "code",
   "execution_count": null,
   "source": [
    "rho_mle = Qobj(qst_max.rho_mle, dims=[[2, 2], [2, 2]])"
   ],
   "outputs": [],
   "metadata": {}
  },
  {
   "cell_type": "code",
   "execution_count": null,
   "source": [
    "pauli_1Q_rescaled = [identity(2)/np.sqrt(2),\r\n",
    "                     sigmax()/np.sqrt(2),\r\n",
    "                     sigmay()/np.sqrt(2),\r\n",
    "                     sigmaz()/np.sqrt(2)]\r\n",
    "\r\n",
    "pauli_2Q_rescaled = []\r\n",
    "for i, j in itertools.product(range(4), repeat=2):\r\n",
    "    pauli_2Q_rescaled.append(tensor(pauli_1Q_rescaled[i], pauli_1Q_rescaled[j]))"
   ],
   "outputs": [],
   "metadata": {}
  },
  {
   "cell_type": "code",
   "execution_count": null,
   "source": [
    "rho_p_theory = 2*np.array([(a*ket2dm(target_varying(phi[max_idx]))).tr() for a in pauli_2Q_rescaled])\r\n",
    "rho_p = 2*np.array([(a*rho_mle).tr() for a in pauli_2Q_rescaled])"
   ],
   "outputs": [],
   "metadata": {}
  },
  {
   "cell_type": "code",
   "execution_count": null,
   "source": [
    "single_Q_comp = [0,1,2,3,4,8,12]\r\n",
    "two_Q_comp = list(set(range(16))-set(single_Q_comp))"
   ],
   "outputs": [],
   "metadata": {}
  },
  {
   "cell_type": "code",
   "execution_count": null,
   "source": [
    "fig, ax = plt.subplots(figsize=(7.8, 4.2))\r\n",
    "ticklabel = []\r\n",
    "for idx in itertools.product('IXYZ', repeat=2):\r\n",
    "    ticklabel.append(''.join(map(str, idx)))\r\n",
    "ax.set_axisbelow(True)\r\n",
    "ax.grid(color='k', alpha=0.2, linestyle='-', linewidth=1)\r\n",
    "ax.bar(single_Q_comp, rho_p[single_Q_comp], edgecolor='None', color=(0.6, 0.55, 1))\r\n",
    "ax.bar(two_Q_comp, rho_p[two_Q_comp], edgecolor='None', color=(1, 0, 0))\r\n",
    "ax.bar(range(16), rho_p_theory, edgecolor='k', color='None')\r\n",
    "ax.set_xlim(-0.5,16-.5)\r\n",
    "ax.set_xticks(range(16))\r\n",
    "ax.set_xticklabels(ticklabel, fontsize=14)\r\n",
    "\r\n",
    "fig.savefig(qst_exp.path.joinpath('Pauli_vector.png'), bbox_inches='tight', transparent=True)\r\n",
    "plt.show()"
   ],
   "outputs": [],
   "metadata": {}
  },
  {
   "cell_type": "code",
   "execution_count": null,
   "source": [
    "from matplotlib.gridspec import GridSpec\r\n",
    "import matplotlib.image as mpimg"
   ],
   "outputs": [],
   "metadata": {}
  },
  {
   "cell_type": "code",
   "execution_count": null,
   "source": [
    "img = mpimg.imread(qst_exp.path.joinpath('scheme.png'))"
   ],
   "outputs": [],
   "metadata": {}
  },
  {
   "cell_type": "code",
   "execution_count": null,
   "source": [
    "# def format_axes(fig):\r\n",
    "#     for i, ax in enumerate(fig.axes):\r\n",
    "#         ax.text(0.5, 0.5, \"ax%d\" % (i+1), va=\"center\", ha=\"center\")\r\n",
    "#         ax.tick_params(labelbottom=False, labelleft=False)\r\n",
    "\r\n",
    "fig = plt.figure(constrained_layout=True, figsize=(6, 8))\r\n",
    "\r\n",
    "gs = GridSpec(3, 2, figure=fig)\r\n",
    "ax1 = fig.add_subplot(gs[0, :])\r\n",
    "ax2 = fig.add_subplot(gs[1, 0])\r\n",
    "ax3 = fig.add_subplot(gs[1, 1])\r\n",
    "ax4 = fig.add_subplot(gs[2, :])\r\n",
    "\r\n",
    "ax1.imshow(img)\r\n",
    "ax1.axis('off')\r\n",
    "\r\n",
    "qst_max.plot(part='real', ax=ax2, colorbar=False)\r\n",
    "ax2.set_title(r'Re$(\\rho)$', fontsize=16)\r\n",
    "ax2.set_xticklabels([r'$\\widetilde{|00}\\rightangle$', r'$\\widetilde{|01}\\rightangle$', r'$\\widetilde{|10}\\rightangle$', r'$\\widetilde{|11}\\rightangle$'], fontsize=14)\r\n",
    "ax2.set_yticklabels([r'$\\widetilde{|00}\\rightangle$', r'$\\widetilde{|01}\\rightangle$', r'$\\widetilde{|10}\\rightangle$', r'$\\widetilde{|11}\\rightangle$'], fontsize=14)\r\n",
    "\r\n",
    "_, _, img_imag = qst_max.plot(part='imag', ax=ax3, colorbar=False)\r\n",
    "ax3.set_title(r'Im$(\\rho)$', fontsize=16)\r\n",
    "cb_ax = fig.add_axes([0.99, .41, .02, .258])\r\n",
    "fig.colorbar(img_imag, ticks=np.linspace(-1, 1, 5), cax=cb_ax)\r\n",
    "img_imag.set_clim(-1, 1)\r\n",
    "ax3.set_xticklabels([r'$\\widetilde{|00}\\rightangle$', r'$\\widetilde{|01}\\rightangle$', r'$\\widetilde{|10}\\rightangle$', r'$\\widetilde{|11}\\rightangle$'], fontsize=14)\r\n",
    "ax3.set_yticklabels([r'$\\widetilde{|00}\\rightangle$', r'$\\widetilde{|01}\\rightangle$', r'$\\widetilde{|10}\\rightangle$', r'$\\widetilde{|11}\\rightangle$'], fontsize=14)\r\n",
    "\r\n",
    "ax4.set_axisbelow(True)\r\n",
    "ax4.grid(color='k', alpha=0.2, linestyle='-', linewidth=1)\r\n",
    "ax4.bar(single_Q_comp, rho_p[single_Q_comp], edgecolor='None', color=(0.6, 0.55, 1))\r\n",
    "ax4.bar(two_Q_comp, rho_p[two_Q_comp], edgecolor='None', color=(1, 0, 0))\r\n",
    "ax4.bar(range(16), rho_p_theory, edgecolor='k', color='None')\r\n",
    "ax4.set_xlim(-0.5,16-.5)\r\n",
    "ax4.set_xticks(range(16))\r\n",
    "ax4.set_yticks(np.linspace(-1, 1, 5))\r\n",
    "ax4.set_xticklabels(ticklabel, fontsize=14)\r\n",
    "ax4.set_yticklabels(np.linspace(-1, 1, 5), fontsize=14)\r\n",
    "\r\n",
    "ax1.text(-0.1, 1.1, '(a)', transform=ax1.transAxes, size=20)\r\n",
    "ax2.text(-0.34, 1.1, '(b)', transform=ax2.transAxes, size=20)\r\n",
    "ax3.text(-0.34, 1.1, '(c)', transform=ax3.transAxes, size=20)\r\n",
    "ax4.text(-0.1, 1.1, '(d)', transform=ax4.transAxes, size=20)\r\n",
    "\r\n",
    "fig.savefig(qst_exp.path.joinpath('QST.png'), bbox_inches='tight')\r\n",
    "plt.show()"
   ],
   "outputs": [],
   "metadata": {}
  },
  {
   "cell_type": "markdown",
   "source": [
    "# QST Train"
   ],
   "metadata": {}
  },
  {
   "cell_type": "code",
   "execution_count": null,
   "source": [
    "qst_train_exp = qdpm.Experiment(r'O:\\68707\\JoelHoward\\Experiments\\EntanglementSpeedLimit\\twoQubit_SWIPHT_directCapCoupling\\February2021-Round4\\DataAnalysis\\Data\\state_01+10_numSegs_4_taus_24\\run0\\exp_1of3')"
   ],
   "outputs": [],
   "metadata": {}
  },
  {
   "cell_type": "code",
   "execution_count": null,
   "source": [
    "rotation = [identity(2),\r\n",
    "            rx(-np.pi/2),\r\n",
    "            ry(np.pi/2)]\r\n",
    "\r\n",
    "initial_state = tensor(basis(2, 0),\r\n",
    "                       basis(2, 0))"
   ],
   "outputs": [],
   "metadata": {}
  },
  {
   "cell_type": "code",
   "execution_count": null,
   "source": [
    "target = (tensor(basis(2, 0), basis(2, 1))+tensor(basis(2, 1), basis(2, 0))).unit()"
   ],
   "outputs": [],
   "metadata": {}
  },
  {
   "cell_type": "code",
   "execution_count": null,
   "source": [
    "qst = qdpm.QST_chain(qst_train_exp, rotation, theory_state=target, num_of_qubit=2, num_of_QST=11)"
   ],
   "outputs": [],
   "metadata": {}
  },
  {
   "cell_type": "code",
   "execution_count": null,
   "source": [
    "qst.purity"
   ],
   "outputs": [],
   "metadata": {}
  },
  {
   "cell_type": "code",
   "execution_count": null,
   "source": [
    "np.matmul(qst.rho_mle[0].conj(), qst.rho_mle[0]).trace().real"
   ],
   "outputs": [],
   "metadata": {}
  },
  {
   "cell_type": "code",
   "execution_count": null,
   "source": [
    "np.matmul(qst.rho_mle[0], qst.rho_mle[0]).trace().real"
   ],
   "outputs": [],
   "metadata": {}
  },
  {
   "cell_type": "code",
   "execution_count": null,
   "source": [
    "Qobj(qst.rho_mle[0])"
   ],
   "outputs": [],
   "metadata": {}
  },
  {
   "cell_type": "code",
   "execution_count": null,
   "source": [
    "qst.plot_theory(part='imag', colorbar=True)"
   ],
   "outputs": [],
   "metadata": {}
  },
  {
   "cell_type": "code",
   "execution_count": null,
   "source": [
    "qst.plot(part='real', QST_idx=6, colorbar=True)"
   ],
   "outputs": [],
   "metadata": {}
  },
  {
   "cell_type": "code",
   "execution_count": null,
   "source": [],
   "outputs": [],
   "metadata": {}
  }
 ],
 "metadata": {
  "language_info": {
   "codemirror_mode": {
    "name": "ipython",
    "version": 3
   },
   "file_extension": ".py",
   "mimetype": "text/x-python",
   "name": "python",
   "nbconvert_exporter": "python",
   "pygments_lexer": "ipython3",
   "version": "3.9.5"
  },
  "orig_nbformat": 2,
  "kernelspec": {
   "name": "python3",
   "display_name": "Python 3.9.5 64-bit ('qdpm': conda)"
  },
  "interpreter": {
   "hash": "c9032b5f6bcfd45d20a3227c5dfbf0da1f5e23f0cbeecc040f53174a7146f337"
  }
 },
 "nbformat": 4,
 "nbformat_minor": 2
}