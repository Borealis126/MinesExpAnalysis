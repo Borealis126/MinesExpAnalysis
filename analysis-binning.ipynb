{
 "cells": [
  {
   "cell_type": "code",
   "execution_count": 54,
   "metadata": {},
   "outputs": [],
   "source": [
    "import sys\n",
    "sys.path.append('O:\\\\68707\\\\JoelHoward\\\\DataAnalysis\\\\QuantumDataProcessModule')\n",
    "import qdpm\n",
    "sys.path.append(r'O:\\68707\\JoelHoward\\DataAnalysis')\n",
    "\n",
    "from qutip import ket2dm, identity, Qobj, tensor, basis, average_gate_fidelity, to_super, choi_to_super, sigmax, sigmay, sigmaz, qeye\n",
    "from qutip.qip.operations import rx, ry, cphase, rz\n",
    "\n",
    "import numpy as np\n",
    "import matplotlib.pyplot as plt\n",
    "import scipy.io\n",
    "from pathlib import Path\n",
    "%matplotlib inline\n",
    "\n",
    "sys.path.append(\"O:\\\\68707\\\\JoelHoward\\\\OptimalControl\")\n",
    "import NQubitSystem_qutip as NQS_QT\n",
    "sys.path.append('O:\\\\68707\\\\JoelHoward\\\\PulseShaping')\n",
    "import AdvancedWaveforms_JH as wfm_adv\n",
    "from WaveformConstructorPrimitives_JH import *\n",
    "from pulseGenFuncs import Paths\n",
    "\n",
    "sys.path.append('O:\\\\68707\\\\JoelHoward\\\\OptimalControl\\\\AlexOptim_JH')\n",
    "from optim_gate_gauss_core import NielsenFidelity, evolution, gate\n",
    "\n",
    "import torch\n",
    "from forest.benchmarking.operator_tools import kraus2pauli_liouville\n",
    "from scipy import stats"
   ]
  },
  {
   "cell_type": "code",
   "execution_count": 2,
   "metadata": {},
   "outputs": [],
   "source": [
    "preparation = [identity(2),\n",
    "                   rx(np.pi),\n",
    "                   ry(np.pi/2),\n",
    "                   ry(-np.pi/2),\n",
    "                   rx(-np.pi/2),\n",
    "                   rx(np.pi/2)]\n",
    "rotation = [identity(2), \n",
    "            rx(-np.pi/2), \n",
    "            ry(np.pi/2)]\n",
    "init_state = [basis(2,0), basis(2, 0)]"
   ]
  },
  {
   "cell_type": "code",
   "execution_count": 3,
   "metadata": {},
   "outputs": [],
   "source": [
    "qSys = NQS_QT.NQubitSystem_QT(Path(r'C:\\Users\\68707\\Desktop\\LV_JH\\Experiments\\JH\\Cooldown_2022_01_10\\SSB\\CNOT\\7.5MHz\\20Points\\gateData_noSavedTomo\\G0\\results\\gate\\2022-03-11_0'))\n",
    "qSys.numLevels = 2\n",
    "\n",
    "ket00 = qSys.qutipState([0,0])\n",
    "ket01 = qSys.qutipState([0,1])\n",
    "ket10 = qSys.qutipState([1,0])\n",
    "ket11 = qSys.qutipState([1,1])\n",
    "\n",
    "basePath = Path(r\"C:\\Users\\68707\\Desktop\\LV_JH\\Experiments\\JH\\Cooldown_2022_01_10\\SSB\\CNOT\\7.5MHz\\20Points\")\n",
    "gateDataPath = basePath / 'gates.json'"
   ]
  },
  {
   "cell_type": "markdown",
   "metadata": {},
   "source": [
    "# Plot"
   ]
  },
  {
   "cell_type": "code",
   "execution_count": 40,
   "metadata": {},
   "outputs": [
    {
     "name": "stdout",
     "output_type": "stream",
     "text": [
      "(2, 2, 85, 500, 4)\n",
      "[0, 50, 100, 150, 200, 250, 300, 350, 400, 450]\n"
     ]
    }
   ],
   "source": [
    "gates = wfm_adv.loadGates(qSys, gateDataPath)\n",
    "numGates = len(gates)\n",
    "\n",
    "TheoryGate = gate(qSys, 'CNOT').numpy()\n",
    "\n",
    "studyPath_I = Path(r\"C:\\Users\\68707\\Desktop\\LV_JH\\Experiments\\JH\\Cooldown_2022_01_10\\SSB\\ProcessTomographyTest\\id\")\n",
    "paths_I = Paths(studyPath_I)\n",
    "\n",
    "R_I = qdpm.ProcessTomography(qdpm.Experiment(paths_I.resultsPath('2022-03-11_0')), init_state, preparation, rotation)._R_mle\n",
    "\n",
    "G_T = list()\n",
    "G_IF_Exp_Theory = list()\n",
    "G_IF_Theory_TheoryGate = list()\n",
    "G_IF_Exp_TheoryGate = list()\n",
    "\n",
    "g_i = 2\n",
    "numRepeats = 500\n",
    "windowSize = 50\n",
    "numWindows = 10\n",
    "lastStartIndex = numRepeats - windowSize\n",
    "startIndices = [int(i) for i in np.linspace(0,lastStartIndex, numWindows)]\n",
    "print(startIndices)"
   ]
  },
  {
   "cell_type": "code",
   "execution_count": 41,
   "metadata": {},
   "outputs": [
    {
     "name": "stdout",
     "output_type": "stream",
     "text": [
      "[85 50  4]\n",
      "(2, 2, 85, 50, 4)\n"
     ]
    },
    {
     "name": "stderr",
     "output_type": "stream",
     "text": [
      "<ipython-input-41-d7164d3086d7>:13: ComplexWarning: Casting complex values to real discards the imaginary part\n",
      "  tomo._R_mle = R_spamFree.astype('float64')\n"
     ]
    },
    {
     "name": "stdout",
     "output_type": "stream",
     "text": [
      "[85 50  4]\n",
      "(2, 2, 85, 50, 4)\n"
     ]
    },
    {
     "name": "stderr",
     "output_type": "stream",
     "text": [
      "<ipython-input-41-d7164d3086d7>:13: ComplexWarning: Casting complex values to real discards the imaginary part\n",
      "  tomo._R_mle = R_spamFree.astype('float64')\n"
     ]
    },
    {
     "name": "stdout",
     "output_type": "stream",
     "text": [
      "[85 50  4]\n",
      "(2, 2, 85, 50, 4)\n"
     ]
    },
    {
     "name": "stderr",
     "output_type": "stream",
     "text": [
      "<ipython-input-41-d7164d3086d7>:13: ComplexWarning: Casting complex values to real discards the imaginary part\n",
      "  tomo._R_mle = R_spamFree.astype('float64')\n"
     ]
    },
    {
     "name": "stdout",
     "output_type": "stream",
     "text": [
      "[85 50  4]\n",
      "(2, 2, 85, 50, 4)\n"
     ]
    },
    {
     "name": "stderr",
     "output_type": "stream",
     "text": [
      "<ipython-input-41-d7164d3086d7>:13: ComplexWarning: Casting complex values to real discards the imaginary part\n",
      "  tomo._R_mle = R_spamFree.astype('float64')\n"
     ]
    },
    {
     "name": "stdout",
     "output_type": "stream",
     "text": [
      "[85 50  4]\n",
      "(2, 2, 85, 50, 4)\n"
     ]
    },
    {
     "name": "stderr",
     "output_type": "stream",
     "text": [
      "<ipython-input-41-d7164d3086d7>:13: ComplexWarning: Casting complex values to real discards the imaginary part\n",
      "  tomo._R_mle = R_spamFree.astype('float64')\n"
     ]
    },
    {
     "name": "stdout",
     "output_type": "stream",
     "text": [
      "[85 50  4]\n",
      "(2, 2, 85, 50, 4)\n"
     ]
    },
    {
     "name": "stderr",
     "output_type": "stream",
     "text": [
      "<ipython-input-41-d7164d3086d7>:13: ComplexWarning: Casting complex values to real discards the imaginary part\n",
      "  tomo._R_mle = R_spamFree.astype('float64')\n"
     ]
    },
    {
     "name": "stdout",
     "output_type": "stream",
     "text": [
      "[85 50  4]\n",
      "(2, 2, 85, 50, 4)\n"
     ]
    },
    {
     "name": "stderr",
     "output_type": "stream",
     "text": [
      "<ipython-input-41-d7164d3086d7>:13: ComplexWarning: Casting complex values to real discards the imaginary part\n",
      "  tomo._R_mle = R_spamFree.astype('float64')\n"
     ]
    },
    {
     "name": "stdout",
     "output_type": "stream",
     "text": [
      "[85 50  4]\n",
      "(2, 2, 85, 50, 4)\n"
     ]
    },
    {
     "name": "stderr",
     "output_type": "stream",
     "text": [
      "<ipython-input-41-d7164d3086d7>:13: ComplexWarning: Casting complex values to real discards the imaginary part\n",
      "  tomo._R_mle = R_spamFree.astype('float64')\n"
     ]
    },
    {
     "name": "stdout",
     "output_type": "stream",
     "text": [
      "[85 50  4]\n",
      "(2, 2, 85, 50, 4)\n"
     ]
    },
    {
     "name": "stderr",
     "output_type": "stream",
     "text": [
      "<ipython-input-41-d7164d3086d7>:13: ComplexWarning: Casting complex values to real discards the imaginary part\n",
      "  tomo._R_mle = R_spamFree.astype('float64')\n"
     ]
    },
    {
     "name": "stdout",
     "output_type": "stream",
     "text": [
      "[85 50  4]\n",
      "(2, 2, 85, 50, 4)\n"
     ]
    },
    {
     "name": "stderr",
     "output_type": "stream",
     "text": [
      "<ipython-input-41-d7164d3086d7>:13: ComplexWarning: Casting complex values to real discards the imaginary part\n",
      "  tomo._R_mle = R_spamFree.astype('float64')\n"
     ]
    }
   ],
   "source": [
    "for startIndex in startIndices:\n",
    "    studyPaths = Paths(basePath / 'gateData_noSavedTomo' / ('G'+str(g_i)))\n",
    "    tomo = qdpm.ProcessTomography(qdpm.Experiment(studyPaths.resultsPath('2022-03-11_0'), repeatRange=[startIndex, startIndex+windowSize]), init_state, preparation, rotation)\n",
    "    gateExpSlice = gates[g_i]\n",
    "\n",
    "    G_T.append(sum([pulse.duration for pulse in gateExpSlice.opList[0].pulseList]))\n",
    "\n",
    "    U = NQS_QT.unitaryFromOpList(qSys.gateExpSliceToUnitaryOpList(gateExpSlice))\n",
    "    U_qt = Qobj(U, dims=[[2,2],[2,2]])\n",
    "\n",
    "    R_U = tomo._R_mle\n",
    "    R_spamFree = qdpm.R_SPAMfree(U, R_U, R_I)\n",
    "    tomo._R_mle = R_spamFree.astype('float64')\n",
    "\n",
    "    G_IF_Exp_Theory.append(1-tomo.fidelity(U_qt))\n",
    "\n",
    "    G_IF_Theory_TheoryGate.append(1-NielsenFidelity(qSys.N, torch.tensor(U, dtype=torch.cdouble), torch.tensor(TheoryGate, dtype=torch.cdouble)).item())\n",
    "    G_IF_Exp_TheoryGate.append(1-tomo.fidelity(Qobj(TheoryGate, dims=[[2,2],[2,2]])))\n",
    "\n",
    "# if g_i == 15:\n",
    "#     tomo.plot()\n",
    "#     plt.savefig('CNOT75hist_exp.png', dpi=500)\n",
    "\n",
    "#         tomo.plot_theory(Qobj(TheoryGate, dims=[[2,2],[2,2]]))\n",
    "#         plt.savefig('CNOT75hist_theory.png', dpi=500)"
   ]
  },
  {
   "cell_type": "code",
   "execution_count": 42,
   "metadata": {},
   "outputs": [
    {
     "data": {
      "image/png": "[encoded data removed]",
      "text/plain": [
       "<Figure size 432x288 with 1 Axes>"
      ]
     },
     "metadata": {
      "needs_background": "light"
     },
     "output_type": "display_data"
    }
   ],
   "source": [
    "plt.plot(startIndices, G_IF_Exp_Theory, 'bo-', label='IF Exp/Theory')\n",
    "plt.plot(startIndices, G_IF_Theory_TheoryGate, 'go-', label='IF Theory/CNOT')\n",
    "plt.plot(startIndices, G_IF_Exp_TheoryGate, 'ro-', label='IF Exp/CNOT')\n",
    "\n",
    "plt.legend()\n",
    "# plt.legend(['IF Theory/CNOT', 'IF Exp/CNOT'])\n",
    "plt.title('CNOT Q0-XY Q1-XY square 4segs $\\Omega=7.5MHz$ ')\n",
    "plt.xlabel('startIndex')\n",
    "plt.ylabel('Infidelity')\n",
    "plt.show()"
   ]
  },
  {
   "cell_type": "code",
   "execution_count": 53,
   "metadata": {},
   "outputs": [
    {
     "name": "stdout",
     "output_type": "stream",
     "text": [
      "[0.067 0.072 0.066 0.058 0.063 0.052 0.063 0.064 0.063 0.06 ]\n",
      "[0.56  0.561 0.56  0.56  0.552 0.557 0.557 0.551 0.566 0.567]\n",
      "0.00514930180461797\n",
      "0.004760989867325565\n"
     ]
    }
   ],
   "source": [
    "def CI(sample):\n",
    "    return stats.t.interval(0.95, len(sample)-1, loc=np.mean(sample), scale=stats.sem(sample))\n",
    "\n",
    "blueData = np.array(G_IF_Exp_Theory)\n",
    "redData = np.array(G_IF_Exp_TheoryGate)\n",
    "\n",
    "print(np.round(blueData,3))\n",
    "print(np.round(redData,3))\n",
    "print(np.std(blueData))\n",
    "print(np.std(redData))"
   ]
  },
  {
   "cell_type": "code",
   "execution_count": 52,
   "metadata": {},
   "outputs": [
    {
     "data": {
      "text/plain": [
       "(0.05888811396381974, 0.0666538006041075)"
      ]
     },
     "execution_count": 52,
     "metadata": {},
     "output_type": "execute_result"
    }
   ],
   "source": [
    "CI(blueData)"
   ]
  }
 ],
 "metadata": {
  "kernelspec": {
   "display_name": "Python 3",
   "language": "python",
   "name": "python3"
  },
  "language_info": {
   "codemirror_mode": {
    "name": "ipython",
    "version": 3
   },
   "file_extension": ".py",
   "mimetype": "text/x-python",
   "name": "python",
   "nbconvert_exporter": "python",
   "pygments_lexer": "ipython3",
   "version": "3.9.5"
  }
 },
 "nbformat": 4,
 "nbformat_minor": 2
}
